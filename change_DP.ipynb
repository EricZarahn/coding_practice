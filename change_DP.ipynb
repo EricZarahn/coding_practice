{
 "cells": [
  {
   "cell_type": "code",
   "execution_count": 1,
   "metadata": {},
   "outputs": [
    {
     "name": "stdout",
     "output_type": "stream",
     "text": [
      "3.6.4\n"
     ]
    }
   ],
   "source": [
    "import numpy as np\n",
    "import sys\n",
    "from time import process_time as pt\n",
    "from matplotlib import pyplot as plt\n",
    "\n",
    "from platform import python_version\n",
    "print(python_version())\n"
   ]
  },
  {
   "cell_type": "code",
   "execution_count": 2,
   "metadata": {},
   "outputs": [],
   "source": [
    "def change_recursive(coins,money):\n",
    "    \n",
    "    '''implements recursive method of computing minimum \n",
    "    number of coins to change a specified integer currency amount\n",
    "    \n",
    "    coins: list of coin values extant in currency system (assumed to\n",
    "    be unique values)\n",
    "    \n",
    "    money: an integer currency amount (in atomic currency units)\n",
    "    \n",
    "    '''\n",
    "    \n",
    "    if (money == 0):\n",
    "\n",
    "        return 0\n",
    "\n",
    "    min_num_coins = np.inf\n",
    "\n",
    "    for coin in coins:\n",
    "            \n",
    "        if (money >= coin):\n",
    "            \n",
    "            #adding 1 to recursive output to account for coin\n",
    "            #subtracted in call to change_recursive \n",
    "            \n",
    "            num_coins = change_recursive(coins,money - coin) + 1\n",
    "            \n",
    "            if (num_coins < min_num_coins):\n",
    "                \n",
    "                min_num_coins = num_coins\n",
    "                \n",
    "    return min_num_coins"
   ]
  },
  {
   "cell_type": "code",
   "execution_count": 5,
   "metadata": {},
   "outputs": [],
   "source": [
    "def change_DP(coins,money):\n",
    "    \n",
    "    '''implements dynamic programming method of computing minimum \n",
    "    number of coins to change a specified integer currency amount\n",
    "    \n",
    "    coins: list of coin values extant in currency system (assumed to\n",
    "    be unique values)\n",
    "    \n",
    "    money: an integer currency amount (in atomic currency units)\n",
    "    \n",
    "    '''\n",
    "\n",
    "    #coins_for_change_dict is a dictionary whose keys are the coin\n",
    "    #values and whose values are the number of coins used to make change\n",
    "    coins_for_change_dict = {coin: 0 for coin in coins}\n",
    "    \n",
    "    if (money == 0):\n",
    "        \n",
    "        return 0,coins_for_change_dict\n",
    "    \n",
    "    #dict comprehension: keys are integer money \n",
    "    #amounts from 0 to money, values are min. number\n",
    "    #of coins to obtain the key money amount.\n",
    "    min_num_coins_dict = {m: 0 for m in np.arange(money + 1)}\n",
    "    \n",
    "    best_new_coins_for_m = []\n",
    "    \n",
    "    #do not include m = 0 in the m loop \n",
    "    for m in np.arange(money) + 1:\n",
    "    \n",
    "        min_num_coins_dict[m] = np.inf\n",
    "        \n",
    "        best_new_coin_for_m = None\n",
    "        \n",
    "        for coin in coins:\n",
    "            \n",
    "            if (m >= coin):\n",
    "                \n",
    "                num_coins =  min_num_coins_dict[m - coin] + 1\n",
    "                \n",
    "                if (num_coins < min_num_coins_dict[m]):\n",
    "                    \n",
    "                    min_num_coins_dict[m] = num_coins\n",
    "             \n",
    "                    best_new_coin_for_m = coin\n",
    "        \n",
    "        best_new_coins_for_m.append(best_new_coin_for_m)\n",
    "        \n",
    "    #Now compute the number of each coin value used to make change by working backwards\n",
    "    #through optimal path represented implicitly in best_new_coins_for_m.\n",
    "    \n",
    "    m = money\n",
    "    \n",
    "    while (m > 0):\n",
    "    \n",
    "        #use index of m-1 into list best_new_coins_for_m\n",
    "        #because of 0-based python indexing\n",
    "        coins_for_change_dict[best_new_coins_for_m[m - 1]] += 1\n",
    "    \n",
    "        m -= best_new_coins_for_m[m - 1]\n",
    "                    \n",
    "    return min_num_coins_dict[money],coins_for_change_dict\n",
    "    \n",
    "    \n",
    "    \n",
    "    \n",
    "    "
   ]
  },
  {
   "cell_type": "code",
   "execution_count": 3,
   "metadata": {},
   "outputs": [],
   "source": [
    "coins = [1,5,10,15,25]\n",
    "\n",
    "money = 52"
   ]
  },
  {
   "cell_type": "code",
   "execution_count": 6,
   "metadata": {},
   "outputs": [
    {
     "name": "stdout",
     "output_type": "stream",
     "text": [
      "Elapsed time for dynamic programming method = 0.00 seconds\n",
      "\n",
      "The minimum # of coins required to change 52 cents = 4,\n",
      "which corresponds to the coins:\n",
      "2 of 1 cents coin\n",
      "0 of 5 cents coin\n",
      "0 of 10 cents coin\n",
      "0 of 15 cents coin\n",
      "2 of 25 cents coin\n"
     ]
    }
   ],
   "source": [
    "t0 = pt()\n",
    "min_num_coins,change_dict = change_DP(coins,money)\n",
    "t1 = pt()\n",
    "\n",
    "print(\"Elapsed time for dynamic programming method = {:.2f} seconds\".format(t1-t0))\n",
    "\n",
    "print(\"\\nThe minimum # of coins required to change {:d} cents = {:d},\\nwhich corresponds to the coins:\".format(\\\n",
    "money,min_num_coins))\n",
    "\n",
    "for coin in change_dict.keys():\n",
    "    print(\"{:d} of {:d} cents coin\".format(change_dict[coin],coin))\n",
    "    \n"
   ]
  },
  {
   "cell_type": "code",
   "execution_count": 7,
   "metadata": {},
   "outputs": [
    {
     "name": "stdout",
     "output_type": "stream",
     "text": [
      "Elapsed time for recursive method = 10.28 seconds\n",
      "\n",
      "The minimum # of coins required to change 52 cents = 4.\n"
     ]
    }
   ],
   "source": [
    "t0 = pt()\n",
    "min_num_coins = change_recursive(coins,money)\n",
    "t1 = pt()\n",
    "\n",
    "print(\"Elapsed time for recursive method = {:.2f} seconds\".format(t1-t0))\n",
    "\n",
    "print(\"\\nThe minimum # of coins required to change {:d} cents = {:d}.\".format(money,min_num_coins))"
   ]
  },
  {
   "cell_type": "code",
   "execution_count": null,
   "metadata": {},
   "outputs": [],
   "source": []
  }
 ],
 "metadata": {
  "kernelspec": {
   "display_name": "Python 3",
   "language": "python",
   "name": "python3"
  },
  "language_info": {
   "codemirror_mode": {
    "name": "ipython",
    "version": 3
   },
   "file_extension": ".py",
   "mimetype": "text/x-python",
   "name": "python",
   "nbconvert_exporter": "python",
   "pygments_lexer": "ipython3",
   "version": "3.6.4"
  }
 },
 "nbformat": 4,
 "nbformat_minor": 2
}
